{
 "cells": [
  {
   "cell_type": "markdown",
   "metadata": {},
   "source": [
    "# Introduction to VAOP"
   ]
  },
  {
   "cell_type": "markdown",
   "metadata": {},
   "source": [
    "## Code examples "
   ]
  },
  {
   "cell_type": "markdown",
   "metadata": {},
   "source": [
    "### Find the sum of all elements of an array"
   ]
  },
  {
   "cell_type": "code",
   "execution_count": 3,
   "metadata": {
    "scrolled": true
   },
   "outputs": [
    {
     "name": "stdout",
     "output_type": "stream",
     "text": [
      "Action_00 Direction_10 Action_10 0 0\n",
      "-------папа-----------------\n",
      "Action_10 Direction_10 Action_20 0 55\n",
      "-------папа-----------------\n",
      "Action_20 Direction_20 Action_10 1 55\n",
      "-------папа-----------------\n",
      "Action_10 Direction_10 Action_20 1 57\n",
      "-------папа-----------------\n",
      "Action_20 Direction_10 Action_END 2 57\n",
      "-------папа-----------------\n",
      "\n",
      "sum is [57]\n",
      "\n",
      "The End\n"
     ]
    }
   ],
   "source": [
    "# Start of VA-script #####\n",
    "actions = {\n",
    "    \"Action_00\":{\n",
    "        \"_action_description\":{\n",
    "            \"_010\":\"--> init action\",\n",
    "            \"_020\":\"--> Set array M, i = 0; sum = 0\"\n",
    "        },\n",
    "        \"Direction_10\":\"Action_10\",  \"_010\":\"Done\"\n",
    "    },\n",
    "    \"Action_10\":{\n",
    "        \"_action_description\":{\n",
    "            \"_010\":\"--> sum = sum + M[i]\"\n",
    "        },\n",
    "        \"Direction_10\":\"Action_20\",  \"_010\":\"Done\"\n",
    "    }, \n",
    "    \"Action_20\":{\n",
    "        \"_action_description\":{\n",
    "            \"_010\":\"--> i = i + 1\",\n",
    "            \"_020\":\"-->if i > len(M) - 1\"\n",
    "        },\n",
    "        \"Direction_10\":\"Action_END\",  \"_010\":\"Yes\",\n",
    "        \"Direction_20\":\"Action_10\",   \"_020\":\"No\"\n",
    "    }\n",
    "}\n",
    "# End of VA-script #####\n",
    "\n",
    "# Start of VA-box #####\n",
    "# init block - Action_00\n",
    "M = [55,2]\n",
    "sum = 0\n",
    "i = 0\n",
    "current_action = \"Action_00\"\n",
    "direction = \"Direction_10\"\n",
    "\n",
    "while 1 == 1:\n",
    "    # define next action\n",
    "    action = actions[current_action][direction]\n",
    "    previous_action = current_action\n",
    "    current_action = action    \n",
    "    print(previous_action,direction,current_action, i, sum)\n",
    "    print('-------папа-----------------')\n",
    "\n",
    "    if current_action in actions:\n",
    "        if current_action == \"Action_10\":\n",
    "          # Start of Action_10\n",
    "            sum = sum + M[i]  \n",
    "            direction = \"Direction_10\" # Done\n",
    "          # End of Action_10\n",
    "        if current_action == \"Action_20\":\n",
    "          # Start of Action_20\n",
    "            i = i + 1 \n",
    "            direction = \"Direction_20\" # No\n",
    "            if i > len(M) - 1:\n",
    "                direction = \"Direction_10\" # Yes\n",
    "          # End of Action_20\n",
    "        continue\n",
    "    break # end of loop where 1 == 1\n",
    "\n",
    "if current_action.find(\"END\") == 0:\n",
    "       print(\"\\n\\Error: current_action:[\" + current_action + \"]\\n\")\n",
    "if current_action.find(\"END\") != 0:\n",
    "    print(\"\\nsum is [\" + str(sum) + ']')\n",
    "    print('\\nThe End')\n",
    "    \n",
    "# End of VA-box #####\n"
   ]
  },
  {
   "cell_type": "markdown",
   "metadata": {},
   "source": [
    "### Find the sum of array elements that are greater than zero"
   ]
  },
  {
   "cell_type": "markdown",
   "metadata": {},
   "source": [
    "#### To do this, we have to update the algorithm by adding a new Action_05 to the VA-script and VA-box"
   ]
  },
  {
   "cell_type": "code",
   "execution_count": 4,
   "metadata": {
    "scrolled": true
   },
   "outputs": [
    {
     "name": "stdout",
     "output_type": "stream",
     "text": [
      "Action_00 Direction_10 Action_05 0 0\n",
      "------------------------\n",
      "Action_05 Direction_20 Action_10 0 0\n",
      "------------------------\n",
      "Action_10 Direction_10 Action_20 0 1\n",
      "------------------------\n",
      "Action_20 Direction_20 Action_05 1 1\n",
      "------------------------\n",
      "Action_05 Direction_20 Action_10 1 1\n",
      "------------------------\n",
      "Action_10 Direction_10 Action_20 1 3\n",
      "------------------------\n",
      "Action_20 Direction_20 Action_05 2 3\n",
      "------------------------\n",
      "Action_05 Direction_20 Action_10 2 3\n",
      "------------------------\n",
      "Action_10 Direction_10 Action_20 2 10\n",
      "------------------------\n",
      "Action_20 Direction_20 Action_05 3 10\n",
      "------------------------\n",
      "Action_05 Direction_20 Action_10 3 10\n",
      "------------------------\n",
      "Action_10 Direction_10 Action_20 3 19\n",
      "------------------------\n",
      "Action_20 Direction_10 Action_END 4 19\n",
      "------------------------\n",
      "\n",
      "sum is [19]\n",
      "\n",
      "The End\n"
     ]
    }
   ],
   "source": [
    "actions = {\n",
    "    \"Action_00\":{\n",
    "        \"_action_description\":{\n",
    "            \"_010\":\"--> init action\",\n",
    "            \"_020\":\"--> Set array M, i = 0; sum = 0\"\n",
    "        },\n",
    "        \"Direction_10\":\"Action_05\",  \"_010\":\"Done\"\n",
    "    },\n",
    "    \"Action_05\":{\n",
    "        \"_action_description\":{\n",
    "            \"_010\":\"--> if M[i] < 0\"\n",
    "        },\n",
    "        \"Direction_10\":\"Action_20\",  \"_010\":\"Yes\",\n",
    "        \"Direction_20\":\"Action_10\",  \"_020\":\"No\"\n",
    "    },\n",
    "    \"Action_10\":{\n",
    "        \"_action_description\":{\n",
    "            \"_010\":\"--> sum = sum + M[i]\"\n",
    "        },\n",
    "        \"Direction_10\":\"Action_20\",  \"_010\":\"Done\"\n",
    "    }, \n",
    "    \"Action_20\":{\n",
    "        \"_action_description\":{\n",
    "            \"_010\":\"--> i = i + 1\",\n",
    "            \"_020\":\"-->if i > len(M) - 1\"\n",
    "        },\n",
    "        \"Direction_10\":\"Action_END\",  \"_010\":\"Yes\",\n",
    "        \"Direction_20\":\"Action_05\",  \"_020\":\"No\"\n",
    "    }\n",
    "}\n",
    "\n",
    "# init block\n",
    "M = [1,2,7, 9]\n",
    "sum = 0\n",
    "i = 0\n",
    "current_action = \"Action_00\"\n",
    "direction = \"Direction_10\"\n",
    "\n",
    "while 1 == 1:\n",
    "    # define next action\n",
    "    action = actions[current_action][direction]\n",
    "    previous_action = current_action\n",
    "    current_action = action    \n",
    "    print(previous_action,direction,current_action, i, sum)\n",
    "    print('------------------------')\n",
    "\n",
    "    if current_action in actions:\n",
    "        if current_action == \"Action_05\":\n",
    "            direction = \"Direction_20\" # No\n",
    "            if M[i] < 0:\n",
    "                direction = \"Direction_10\" # Yes\n",
    "        if current_action == \"Action_10\":\n",
    "            sum = sum + M[i]  \n",
    "            direction = \"Direction_10\" # Done\n",
    "        if current_action == \"Action_20\":\n",
    "            i = i + 1 \n",
    "            direction = \"Direction_20\" # No\n",
    "            if i > len(M) - 1:\n",
    "                direction = \"Direction_10\" # Yes\n",
    "        continue\n",
    "    break # end of loop where 1 == 1\n",
    "\n",
    "if current_action.find(\"END\") == 0:\n",
    "       print(\"\\n\\Error: current_action:[\" + current_action + \"]\\n\")\n",
    "if current_action.find(\"END\") != 0:\n",
    "    print(\"\\nsum is [\" + str(sum) + ']')\n",
    "    print('\\nThe End')\n"
   ]
  }
 ],
 "metadata": {
  "kernelspec": {
   "display_name": "Python 3",
   "language": "python",
   "name": "python3"
  },
  "language_info": {
   "codemirror_mode": {
    "name": "ipython",
    "version": 3
   },
   "file_extension": ".py",
   "mimetype": "text/x-python",
   "name": "python",
   "nbconvert_exporter": "python",
   "pygments_lexer": "ipython3",
   "version": "3.8.5"
  }
 },
 "nbformat": 4,
 "nbformat_minor": 4
}
